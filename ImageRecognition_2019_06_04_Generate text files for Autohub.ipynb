{
 "cells": [
  {
   "cell_type": "code",
   "execution_count": 1,
   "metadata": {},
   "outputs": [],
   "source": [
    "import os\n",
    "import csv\n",
    "import shutil\n"
   ]
  },
  {
   "cell_type": "code",
   "execution_count": 2,
   "metadata": {},
   "outputs": [],
   "source": [
    "autohub_to_encar = {}\n",
    "with open('vehicle_names_refined.csv') as csvfile:\n",
    "    reader = csv.reader(csvfile, delimiter=',')\n",
    "    for row in reader:\n",
    "        if row[1]:\n",
    "            autohub_to_encar[row[0]] = row[1]\n",
    "\n",
    "def clean(name: str) -> str:\n",
    "    return name.replace(' ', '').replace('_', '').replace('/', '')\n",
    "            \n",
    "src = '/Volumes/TriveStorage/code/trive-image-recognition/autohub_latest'\n",
    "dst = '/Volumes/TriveStorage/code/trive-image-recognition/complete_manual/autohub_latest'\n",
    "for folder in [x for x in os.listdir(src) if x != '.DS_Store']:\n",
    "    if folder in autohub_to_encar:\n",
    "        for f in [x for x in os.listdir(os.path.join(src, folder)) if x != '.DS_Store']:\n",
    "            fpath = os.path.join(src, folder, f)\n",
    "            dst_path = os.path.join(dst, clean(autohub_to_encar[folder]))\n",
    "            if not os.path.exists(dst_path):\n",
    "                os.mkdir(dst_path)\n",
    "            shutil.move(fpath, dst_path)\n",
    "        \n"
   ]
  },
  {
   "cell_type": "code",
   "execution_count": 3,
   "metadata": {},
   "outputs": [],
   "source": [
    "txt_path = '/Volumes/TriveStorage/code/trive-image-recognition/complete_manual/autohub_txt'\n",
    "if not os.path.exists(txt_path):\n",
    "    os.mkdir(txt_path)\n",
    "\n",
    "for folder in [x for x in os.listdir(dst) if x != '.DS_Store']:\n",
    "    folder_path = os.path.join(dst, folder)\n",
    "    images = [os.path.join(folder_path, x) for x in os.listdir(folder_path) if x != '.DS_Store']\n",
    "    if len(images) == 0:\n",
    "        shutil.rmtree(folder_path, ignore_errors=True)\n",
    "        continue\n",
    "    with open(os.path.join(txt_path, f'{folder}.txt'), 'w') as f:\n",
    "        for item in images:\n",
    "            item = item.replace('/Volumes/TriveStorage/code/trive-image-recognition/complete_manual/autohub_latest', 'http://192.168.1.10:8000')\n",
    "            f.write(f'{item}\\n')\n",
    "\n"
   ]
  },
  {
   "cell_type": "code",
   "execution_count": null,
   "metadata": {},
   "outputs": [],
   "source": []
  }
 ],
 "metadata": {
  "kernelspec": {
   "display_name": "Python 3",
   "language": "python",
   "name": "python3"
  },
  "language_info": {
   "codemirror_mode": {
    "name": "ipython",
    "version": 3
   },
   "file_extension": ".py",
   "mimetype": "text/x-python",
   "name": "python",
   "nbconvert_exporter": "python",
   "pygments_lexer": "ipython3",
   "version": "3.6.7"
  }
 },
 "nbformat": 4,
 "nbformat_minor": 2
}
