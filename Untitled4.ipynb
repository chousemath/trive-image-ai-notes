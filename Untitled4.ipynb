{
 "cells": [
  {
   "cell_type": "code",
   "execution_count": 5,
   "metadata": {},
   "outputs": [],
   "source": [
    "from PIL import Image, ImageEnhance \n",
    "import os\n"
   ]
  },
  {
   "cell_type": "code",
   "execution_count": 6,
   "metadata": {},
   "outputs": [],
   "source": [
    "src = '/Volumes/TriveStorage/code/trive-image-recognition/front_only/기아레이레이(11~17년)'\n",
    "dst = '/Volumes/TriveStorage/code/trive-image-recognition/front_only_sharpened/기아레이레이(11~17년)'\n",
    "dst2 = '/Volumes/TriveStorage/code/trive-image-recognition/front_only_contrasted/기아레이레이(11~17년)'\n",
    "\n",
    "if not os.path.exists(dst):\n",
    "    os.mkdir(dst)\n",
    "    \n",
    "if not os.path.exists(dst2):\n",
    "    os.mkdir(dst2)\n",
    "\n",
    "src_paths = [os.path.join(src, x) for x in os.listdir(src) if x != '.DS_Store']\n",
    "for src_path in src_paths:\n",
    "    im = Image.open(src_path)\n",
    "    enhancer = ImageEnhance.Sharpness(im)\n",
    "    enhanced_im = enhancer.enhance(10.0)\n",
    "    basename = os.path.basename(src_path)\n",
    "    sharp_path = os.path.join(dst, basename)\n",
    "    enhanced_im.save(sharp_path)\n",
    "    \n",
    "    im = Image.open(sharp_path)\n",
    "    enhancer = ImageEnhance.Contrast(im)\n",
    "    enhanced_im = enhancer.enhance(4.0)\n",
    "    contrast_path = os.path.join(dst2, basename)\n",
    "    enhanced_im.save(contrast_path)\n"
   ]
  },
  {
   "cell_type": "code",
   "execution_count": null,
   "metadata": {},
   "outputs": [],
   "source": []
  }
 ],
 "metadata": {
  "kernelspec": {
   "display_name": "Python 3",
   "language": "python",
   "name": "python3"
  },
  "language_info": {
   "codemirror_mode": {
    "name": "ipython",
    "version": 3
   },
   "file_extension": ".py",
   "mimetype": "text/x-python",
   "name": "python",
   "nbconvert_exporter": "python",
   "pygments_lexer": "ipython3",
   "version": "3.6.7"
  }
 },
 "nbformat": 4,
 "nbformat_minor": 2
}
