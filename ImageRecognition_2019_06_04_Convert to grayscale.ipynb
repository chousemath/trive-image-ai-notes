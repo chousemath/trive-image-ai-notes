{
 "cells": [
  {
   "cell_type": "code",
   "execution_count": 24,
   "metadata": {},
   "outputs": [],
   "source": [
    "import os\n",
    "import cv2\n",
    "\n"
   ]
  },
  {
   "cell_type": "code",
   "execution_count": 25,
   "metadata": {},
   "outputs": [],
   "source": [
    "root = '/Volumes/TriveStorage/code/trive-image-recognition/complete_manual/cars_refined_grayscale'\n",
    "if not os.path.exists(root):\n",
    "    os.mkdir(root)\n",
    "\n",
    "train_path = os.path.join(root, 'train')\n",
    "if not os.path.exists(train_path):\n",
    "    os.mkdir(train_path)\n",
    "\n",
    "test_path = os.path.join(root, 'test')\n",
    "if not os.path.exists(test_path):\n",
    "    os.mkdir(test_path)\n",
    "\n"
   ]
  },
  {
   "cell_type": "code",
   "execution_count": 26,
   "metadata": {},
   "outputs": [],
   "source": [
    "src_root = '/Volumes/TriveStorage/code/trive-image-recognition/complete_manual/cars_refined'\n",
    "src_train = os.path.join(src_root, 'train')\n",
    "src_test = os.path.join(src_root, 'test')\n",
    "\n"
   ]
  },
  {
   "cell_type": "code",
   "execution_count": 27,
   "metadata": {},
   "outputs": [],
   "source": [
    "def save_to_gray(src: str, dst: str):\n",
    "    try:\n",
    "        image = cv2.imread(src)\n",
    "        gray = cv2.cvtColor(image, cv2.COLOR_BGR2GRAY)\n",
    "        cv2.imwrite(dst, gray)\n",
    "    except Exception as e:\n",
    "        print(e)\n",
    "\n"
   ]
  },
  {
   "cell_type": "code",
   "execution_count": 22,
   "metadata": {},
   "outputs": [],
   "source": [
    "for folder in [x for x in os.listdir(src_train) if x != '.DS_Store']:\n",
    "    src_path = os.path.join(src_train, folder)\n",
    "    dst_path = os.path.join(train_path, folder)\n",
    "    if not os.path.exists(dst_path):\n",
    "        os.mkdir(dst_path)\n",
    "    for image in [os.path.join(src_path, x) for x in os.listdir(src_path) if x != '.DS_Store']:\n",
    "        output_path = os.path.join(dst_path, os.path.basename(image))\n",
    "        if os.path.exists(output_path):\n",
    "            continue\n",
    "        save_to_gray(image, output_path)\n",
    "\n"
   ]
  },
  {
   "cell_type": "code",
   "execution_count": 23,
   "metadata": {},
   "outputs": [],
   "source": [
    "for folder in [x for x in os.listdir(src_test) if x != '.DS_Store']:\n",
    "    src_path = os.path.join(src_test, folder)\n",
    "    dst_path = os.path.join(test_path, folder)\n",
    "    if not os.path.exists(dst_path):\n",
    "        os.mkdir(dst_path)\n",
    "    for image in [os.path.join(src_path, x) for x in os.listdir(src_path) if x != '.DS_Store']:\n",
    "        output_path = os.path.join(dst_path, os.path.basename(image))\n",
    "        if os.path.exists(output_path):\n",
    "            continue\n",
    "        save_to_gray(image, output_path)\n",
    "        \n"
   ]
  },
  {
   "cell_type": "code",
   "execution_count": 29,
   "metadata": {},
   "outputs": [],
   "source": [
    "for folder in [x for x in os.listdir(src_train) if x != '.DS_Store']:\n",
    "    dst_path = os.path.join(train_path, folder)\n",
    "    length = len([x for x in os.listdir(dst_path) if x != '.DS_Store'])\n",
    "    if length != 1000:\n",
    "        print(folder, length)\n",
    "    \n",
    "for folder in [x for x in os.listdir(src_test) if x != '.DS_Store']:\n",
    "    dst_path = os.path.join(test_path, folder)\n",
    "    length = len([x for x in os.listdir(dst_path) if x != '.DS_Store'])\n",
    "    if length != 200:\n",
    "        print(folder, length)\n",
    "\n"
   ]
  },
  {
   "cell_type": "code",
   "execution_count": null,
   "metadata": {},
   "outputs": [],
   "source": []
  }
 ],
 "metadata": {
  "kernelspec": {
   "display_name": "Python 3",
   "language": "python",
   "name": "python3"
  },
  "language_info": {
   "codemirror_mode": {
    "name": "ipython",
    "version": 3
   },
   "file_extension": ".py",
   "mimetype": "text/x-python",
   "name": "python",
   "nbconvert_exporter": "python",
   "pygments_lexer": "ipython3",
   "version": "3.6.7"
  }
 },
 "nbformat": 4,
 "nbformat_minor": 2
}
