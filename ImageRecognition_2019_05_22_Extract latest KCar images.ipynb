{
 "cells": [
  {
   "cell_type": "code",
   "execution_count": null,
   "metadata": {},
   "outputs": [],
   "source": [
    "import requests\n",
    "from bs4 import BeautifulSoup\n",
    "from pprint import pprint\n",
    "import random\n",
    "import os"
   ]
  },
  {
   "cell_type": "code",
   "execution_count": null,
   "metadata": {},
   "outputs": [],
   "source": [
    "root = '/Volumes/TriveStorage/code/trive-image-recognition/kcar_latest'\n",
    "targets = [f'https://www.kcar.com/car/info/car_info_detail.do?i_sCarCd=EC{x}' for x in range(10250333, 90250333)]\n",
    "random.shuffle(targets)\n",
    "\n",
    "for target in targets:\n",
    "    result = requests.get(target)\n",
    "    if result.status_code == 200:\n",
    "        try:\n",
    "            soup = BeautifulSoup(result.content)\n",
    "            title = soup.find_all('div', class_='top_field')[0].find_all('h3')[0].get_text().strip()\n",
    "            image_container = soup.find_all('ul', {'class': 'thumb_area'})[0]\n",
    "            images = list(set([x['src'] for x in image_container.find_all('img') if '/carpicture/' in x['src']]))\n",
    "            dst = os.path.join(root, title)\n",
    "            if not os.path.exists(dst):\n",
    "                os.mkdir(dst)\n",
    "            for url in images:\n",
    "                try:\n",
    "                    response = requests.get(url, stream=True)\n",
    "                    if not response.ok:\n",
    "                        continue\n",
    "                    with open(os.path.join(dst, url.split('/carpicture/')[1].replace('/', '')), 'wb') as handle:\n",
    "                        for block in response.iter_content(1024):\n",
    "                            if not block:\n",
    "                                break\n",
    "                            handle.write(block)\n",
    "                except Exception as e:\n",
    "                    print('}}}', e)\n",
    "        except Exception as e:\n",
    "            print('>>>', e)\n",
    "    \n",
    "    \n",
    "    \n",
    "    "
   ]
  },
  {
   "cell_type": "code",
   "execution_count": null,
   "metadata": {},
   "outputs": [],
   "source": []
  },
  {
   "cell_type": "code",
   "execution_count": null,
   "metadata": {},
   "outputs": [],
   "source": []
  },
  {
   "cell_type": "code",
   "execution_count": null,
   "metadata": {},
   "outputs": [],
   "source": []
  },
  {
   "cell_type": "code",
   "execution_count": null,
   "metadata": {},
   "outputs": [],
   "source": []
  },
  {
   "cell_type": "code",
   "execution_count": null,
   "metadata": {},
   "outputs": [],
   "source": []
  },
  {
   "cell_type": "code",
   "execution_count": null,
   "metadata": {},
   "outputs": [],
   "source": []
  }
 ],
 "metadata": {
  "kernelspec": {
   "display_name": "Python 3",
   "language": "python",
   "name": "python3"
  },
  "language_info": {
   "codemirror_mode": {
    "name": "ipython",
    "version": 3
   },
   "file_extension": ".py",
   "mimetype": "text/x-python",
   "name": "python",
   "nbconvert_exporter": "python",
   "pygments_lexer": "ipython3",
   "version": "3.6.7"
  }
 },
 "nbformat": 4,
 "nbformat_minor": 2
}
