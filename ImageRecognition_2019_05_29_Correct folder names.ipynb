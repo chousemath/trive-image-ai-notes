{
 "cells": [
  {
   "cell_type": "code",
   "execution_count": 5,
   "metadata": {},
   "outputs": [],
   "source": [
    "import os\n",
    "import shutil\n",
    "from pprint import pprint\n"
   ]
  },
  {
   "cell_type": "code",
   "execution_count": 6,
   "metadata": {},
   "outputs": [],
   "source": [
    "directional = '/Volumes/TriveStorage/code/trive-image-recognition/complete_manual/directional'\n",
    "dst = '/Volumes/TriveStorage/code/trive-image-recognition/complete_manual/directional_cleaned'\n",
    "\n",
    "def clean(s: str) -> str:\n",
    "    return s.replace('_', '').replace(' ', '').replace('/', '')\n",
    "\n",
    "folder_names = [x for x in os.listdir(directional) if x != '.DS_Store']\n",
    "\n",
    "for folder_name in folder_names:\n",
    "    cleaned_name = clean(folder_name)\n",
    "    cleaned_path = os.path.join(dst, cleaned_name)\n",
    "    if not os.path.exists(cleaned_path):\n",
    "        os.mkdir(cleaned_path)\n",
    "    \n",
    "    src_front = os.path.join(directional, folder_name, 'front')\n",
    "    dst_front = os.path.join(cleaned_path, 'front')\n",
    "    if not os.path.exists(dst_front):\n",
    "        os.mkdir(dst_front) \n",
    "    \n",
    "    for x in [os.path.join(src_front, x) for x in os.listdir(src_front) if x != '.DS_Store']:\n",
    "        if not os.path.exists(os.path.join(dst_front, os.path.basename(x))):\n",
    "            shutil.move(x, dst_front)\n",
    "\n",
    "    \n",
    "    src_back = os.path.join(directional, folder_name, 'back')\n",
    "    dst_back = os.path.join(cleaned_path, 'back')\n",
    "    if not os.path.exists(dst_back):\n",
    "        os.mkdir(dst_back) \n",
    "    \n",
    "    for x in [os.path.join(src_back, x) for x in os.listdir(src_back) if x != '.DS_Store']:\n",
    "        if not os.path.exists(os.path.join(dst_back, os.path.basename(x))):\n",
    "            shutil.move(x, dst_back)\n",
    "    \n",
    "    src_side = os.path.join(directional, folder_name, 'side')\n",
    "    dst_side = os.path.join(cleaned_path, 'side')\n",
    "    if not os.path.exists(dst_side):\n",
    "        os.mkdir(dst_side) \n",
    "    \n",
    "    for x in [os.path.join(src_side, x) for x in os.listdir(src_side) if x != '.DS_Store']:\n",
    "        if not os.path.exists(os.path.join(dst_side, os.path.basename(x))):\n",
    "            shutil.move(x, dst_side)\n",
    "    \n",
    "    src_mix = os.path.join(directional, folder_name, 'mix')\n",
    "    dst_mix = os.path.join(cleaned_path, 'mix')\n",
    "    if not os.path.exists(dst_mix):\n",
    "        os.mkdir(dst_mix)\n",
    "        \n",
    "        \n",
    "    # augmentation paths\n",
    "    src_mix = os.path.join(directional, folder_name, 'mix')\n",
    "    dst_mix = os.path.join(cleaned_path, 'mix')\n",
    "    if not os.path.exists(dst_mix):\n",
    "        os.mkdir(dst_mix)\n",
    "    \n",
    "    for x in [os.path.join(src_mix, x) for x in os.listdir(src_mix) if x != '.DS_Store']:\n",
    "        if not os.path.exists(os.path.join(dst_mix, os.path.basename(x))):\n",
    "            shutil.move(x, dst_mix)\n",
    "    \n"
   ]
  },
  {
   "cell_type": "code",
   "execution_count": null,
   "metadata": {},
   "outputs": [],
   "source": []
  }
 ],
 "metadata": {
  "kernelspec": {
   "display_name": "Python 3",
   "language": "python",
   "name": "python3"
  },
  "language_info": {
   "codemirror_mode": {
    "name": "ipython",
    "version": 3
   },
   "file_extension": ".py",
   "mimetype": "text/x-python",
   "name": "python",
   "nbconvert_exporter": "python",
   "pygments_lexer": "ipython3",
   "version": "3.6.7"
  }
 },
 "nbformat": 4,
 "nbformat_minor": 2
}
