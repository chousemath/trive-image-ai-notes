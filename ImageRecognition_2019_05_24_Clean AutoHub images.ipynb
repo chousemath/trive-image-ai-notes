{
 "cells": [
  {
   "cell_type": "markdown",
   "metadata": {},
   "source": [
    "# Clean AutoHub Images\n",
    "\n",
    "* Question: Why was the experiment conducted?.\n",
    "> Answer: in progress...\n",
    "\n",
    "* Question: What specific problem/research question was being addressed?\n",
    "> Answer: in progress...\n",
    "\n",
    "* Question: What methods were used to solve the problem/answer the question?\n",
    "> Answer: in progress...\n",
    "\n",
    "* Question: What results were obtained?\n",
    "> Answer: in progress...\n",
    "\n",
    "* Question: What do these results mean?\n",
    "> Answer: in progress...\n",
    "\n",
    "* Question: How do they answer the overall question or improve our understanding of the problem?\n",
    "> Answer: in progress..."
   ]
  },
  {
   "cell_type": "code",
   "execution_count": 26,
   "metadata": {},
   "outputs": [],
   "source": [
    "# import all dependencies here\n",
    "from imageai.Prediction.Custom import CustomImagePrediction\n",
    "import os\n",
    "import random\n",
    "import shutil\n",
    "from pprint import pprint"
   ]
  },
  {
   "cell_type": "code",
   "execution_count": 22,
   "metadata": {},
   "outputs": [],
   "source": [
    "p = CustomImagePrediction()\n",
    "p.setModelTypeAsResNet()\n",
    "path_to_resnet = 'vehicle_direction.h5'\n",
    "path_to_models = 'vehicle_direction.json'\n",
    "p.setModelPath(path_to_resnet)\n",
    "p.setJsonPath(path_to_models)\n",
    "p.loadModel(num_objects=5)\n"
   ]
  },
  {
   "cell_type": "code",
   "execution_count": 24,
   "metadata": {},
   "outputs": [],
   "source": [
    "exec_path = '/Volumes/TriveStorage/code/trive-image-recognition'\n",
    "company_paths = ['autohub_latest']\n",
    "paths = [os.path.join(exec_path, company_path) for company_path in company_paths]\n",
    "random.shuffle(paths)"
   ]
  },
  {
   "cell_type": "code",
   "execution_count": 28,
   "metadata": {},
   "outputs": [
    {
     "name": "stdout",
     "output_type": "stream",
     "text": [
      "7639805441077429926.jpg\n"
     ]
    },
    {
     "ename": "NotADirectoryError",
     "evalue": "[Errno 20] Not a directory: '/Users/jo/Desktop/trive-image-recognition-logic/youtube_images/7639805441077429926.jpg'",
     "output_type": "error",
     "traceback": [
      "\u001b[0;31m---------------------------------------------------------------------------\u001b[0m",
      "\u001b[0;31mNotADirectoryError\u001b[0m                        Traceback (most recent call last)",
      "\u001b[0;32m<ipython-input-28-f34d837ff77e>\u001b[0m in \u001b[0;36m<module>\u001b[0;34m()\u001b[0m\n\u001b[1;32m      4\u001b[0m     \u001b[0;32mfor\u001b[0m \u001b[0mgood_folder\u001b[0m \u001b[0;32min\u001b[0m \u001b[0mgood_folders\u001b[0m\u001b[0;34m:\u001b[0m\u001b[0;34m\u001b[0m\u001b[0;34m\u001b[0m\u001b[0m\n\u001b[1;32m      5\u001b[0m         \u001b[0mprint\u001b[0m\u001b[0;34m(\u001b[0m\u001b[0mgood_folder\u001b[0m\u001b[0;34m)\u001b[0m\u001b[0;34m\u001b[0m\u001b[0;34m\u001b[0m\u001b[0m\n\u001b[0;32m----> 6\u001b[0;31m         \u001b[0mimgs\u001b[0m \u001b[0;34m=\u001b[0m \u001b[0;34m[\u001b[0m\u001b[0mos\u001b[0m\u001b[0;34m.\u001b[0m\u001b[0mpath\u001b[0m\u001b[0;34m.\u001b[0m\u001b[0mjoin\u001b[0m\u001b[0;34m(\u001b[0m\u001b[0mpath\u001b[0m\u001b[0;34m,\u001b[0m \u001b[0mgood_folder\u001b[0m\u001b[0;34m,\u001b[0m \u001b[0mx\u001b[0m\u001b[0;34m)\u001b[0m \u001b[0;32mfor\u001b[0m \u001b[0mx\u001b[0m \u001b[0;32min\u001b[0m \u001b[0mos\u001b[0m\u001b[0;34m.\u001b[0m\u001b[0mlistdir\u001b[0m\u001b[0;34m(\u001b[0m\u001b[0mos\u001b[0m\u001b[0;34m.\u001b[0m\u001b[0mpath\u001b[0m\u001b[0;34m.\u001b[0m\u001b[0mjoin\u001b[0m\u001b[0;34m(\u001b[0m\u001b[0mpath\u001b[0m\u001b[0;34m,\u001b[0m \u001b[0mgood_folder\u001b[0m\u001b[0;34m)\u001b[0m\u001b[0;34m)\u001b[0m \u001b[0;32mif\u001b[0m \u001b[0mx\u001b[0m \u001b[0;34m!=\u001b[0m \u001b[0;34m'.DS_Store'\u001b[0m\u001b[0;34m]\u001b[0m\u001b[0;34m\u001b[0m\u001b[0;34m\u001b[0m\u001b[0m\n\u001b[0m\u001b[1;32m      7\u001b[0m         \u001b[0mrandom\u001b[0m\u001b[0;34m.\u001b[0m\u001b[0mshuffle\u001b[0m\u001b[0;34m(\u001b[0m\u001b[0mimgs\u001b[0m\u001b[0;34m)\u001b[0m\u001b[0;34m\u001b[0m\u001b[0;34m\u001b[0m\u001b[0m\n\u001b[1;32m      8\u001b[0m         \u001b[0;32mfor\u001b[0m \u001b[0mimg\u001b[0m \u001b[0;32min\u001b[0m \u001b[0mimgs\u001b[0m\u001b[0;34m:\u001b[0m\u001b[0;34m\u001b[0m\u001b[0;34m\u001b[0m\u001b[0m\n",
      "\u001b[0;31mNotADirectoryError\u001b[0m: [Errno 20] Not a directory: '/Users/jo/Desktop/trive-image-recognition-logic/youtube_images/7639805441077429926.jpg'"
     ]
    }
   ],
   "source": [
    "for path in paths:\n",
    "    good_folders = [x for x in os.listdir(os.path.join(exec_path, path)) if '.DS_Store' not in x]\n",
    "    random.shuffle(good_folders)\n",
    "    for good_folder in good_folders:\n",
    "        print(good_folder)\n",
    "        imgs = [os.path.join(path, good_folder, x) for x in os.listdir(os.path.join(path, good_folder)) if x != '.DS_Store']\n",
    "        random.shuffle(imgs)\n",
    "        for img in imgs:\n",
    "            try:\n",
    "                predictions, probabilities = p.predictImage(img, result_count=1)\n",
    "                if predictions[0] == 'trash':\n",
    "                    os.remove(img)\n",
    "            except Exception as e:\n",
    "                print(e)\n"
   ]
  },
  {
   "cell_type": "code",
   "execution_count": null,
   "metadata": {},
   "outputs": [],
   "source": []
  }
 ],
 "metadata": {
  "kernelspec": {
   "display_name": "Python 3",
   "language": "python",
   "name": "python3"
  },
  "language_info": {
   "codemirror_mode": {
    "name": "ipython",
    "version": 3
   },
   "file_extension": ".py",
   "mimetype": "text/x-python",
   "name": "python",
   "nbconvert_exporter": "python",
   "pygments_lexer": "ipython3",
   "version": "3.6.7"
  }
 },
 "nbformat": 4,
 "nbformat_minor": 2
}
