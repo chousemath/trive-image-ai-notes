{
 "cells": [
  {
   "cell_type": "code",
   "execution_count": 2,
   "metadata": {},
   "outputs": [],
   "source": [
    "import requests\n",
    "import os\n"
   ]
  },
  {
   "cell_type": "code",
   "execution_count": null,
   "metadata": {},
   "outputs": [],
   "source": [
    "src = '/Volumes/TriveStorage/code/trive-image-recognition/without_bg/기아레이레이(11~17년)_front'\n",
    "\n",
    "# key = 'cBwL3DGK3CFuqzg6MpMWPrLm'\n",
    "# response = requests.post(\n",
    "#     'https://api.remove.bg/v1.0/removebg',\n",
    "#     files={'image_file': open('/path/to/file.jpg', 'rb')},\n",
    "#     data={'size': 'auto'},\n",
    "#     headers={'X-Api-Key': key},\n",
    "# )\n",
    "\n",
    "# if response.status_code == requests.codes.ok:\n",
    "#     with open('no-bg.png', 'wb') as out:\n",
    "#         out.write(response.content)\n",
    "# else:\n",
    "#     print(\"Error:\", response.status_code, response.text)\n"
   ]
  }
 ],
 "metadata": {
  "kernelspec": {
   "display_name": "Python 3",
   "language": "python",
   "name": "python3"
  },
  "language_info": {
   "codemirror_mode": {
    "name": "ipython",
    "version": 3
   },
   "file_extension": ".py",
   "mimetype": "text/x-python",
   "name": "python",
   "nbconvert_exporter": "python",
   "pygments_lexer": "ipython3",
   "version": "3.6.7"
  }
 },
 "nbformat": 4,
 "nbformat_minor": 2
}
