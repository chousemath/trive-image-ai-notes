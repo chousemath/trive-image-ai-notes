{
 "cells": [
  {
   "cell_type": "code",
   "execution_count": 3,
   "metadata": {},
   "outputs": [],
   "source": [
    "import os\n",
    "\n"
   ]
  },
  {
   "cell_type": "code",
   "execution_count": 2,
   "metadata": {},
   "outputs": [],
   "source": [
    "src = '/Users/jo/Downloads/19.06.04-보배드림'\n",
    "dst = '/Users/jo/Downloads/output'\n",
    "\n",
    "for text_file in [x for x in os.listdir(src) if x != '.DS_Store']:\n",
    "    lines = [line.rstrip('\\n').replace('https://f3ad551c.ngrok.io', 'http://192.168.1.10:8001') for line in open(os.path.join(src, text_file))]\n",
    "    with open(os.path.join(dst, text_file), 'w') as f:\n",
    "        for item in lines:\n",
    "            f.write(f'{item}\\n')\n",
    "\n"
   ]
  },
  {
   "cell_type": "code",
   "execution_count": null,
   "metadata": {},
   "outputs": [],
   "source": []
  }
 ],
 "metadata": {
  "kernelspec": {
   "display_name": "Python 3",
   "language": "python",
   "name": "python3"
  },
  "language_info": {
   "codemirror_mode": {
    "name": "ipython",
    "version": 3
   },
   "file_extension": ".py",
   "mimetype": "text/x-python",
   "name": "python",
   "nbconvert_exporter": "python",
   "pygments_lexer": "ipython3",
   "version": "3.6.7"
  }
 },
 "nbformat": 4,
 "nbformat_minor": 2
}
