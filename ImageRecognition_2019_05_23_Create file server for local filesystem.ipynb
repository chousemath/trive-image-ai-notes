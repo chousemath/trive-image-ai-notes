{
 "cells": [
  {
   "cell_type": "code",
   "execution_count": 22,
   "metadata": {},
   "outputs": [],
   "source": [
    "import os\n",
    "import urllib\n"
   ]
  },
  {
   "cell_type": "code",
   "execution_count": 14,
   "metadata": {},
   "outputs": [],
   "source": [
    "root = '/Volumes/TriveStorage/code/trive-image-recognition/bobae_latest'\n",
    "folders = [os.path.join(root, x) for x in os.listdir(root) if '.DS_Store' != x]"
   ]
  },
  {
   "cell_type": "code",
   "execution_count": 47,
   "metadata": {},
   "outputs": [],
   "source": [
    "ngrok = 'https://3ecd987c.ngrok.io'\n",
    "dst = '/Volumes/TriveStorage/code/trive-image-recognition/bobae_text'\n",
    "for folder in folders:\n",
    "    vehicle_class = os.path.basename(folder)\n",
    "    text_path = os.path.join(dst, f'{vehicle_class}.txt')\n",
    "    if os.path.exists(text_path):\n",
    "        os.remove(text_path)\n",
    "    with open(text_path, 'w') as filehandle:  \n",
    "        for listitem in [os.path.join(ngrok, urllib.parse.quote(vehicle_class), x) for x in os.listdir(folder) if '.DS_Store' != x]:\n",
    "            filehandle.write(f'{listitem}\\n')"
   ]
  },
  {
   "cell_type": "code",
   "execution_count": 50,
   "metadata": {},
   "outputs": [],
   "source": [
    "for f in [os.path.join(dst, x) for x in os.listdir(dst) if x != '.DS_Store']:\n",
    "    sz = os.path.getsize(f)\n",
    "    if sz == 0:\n",
    "        os.remove(f)\n"
   ]
  },
  {
   "cell_type": "code",
   "execution_count": 51,
   "metadata": {},
   "outputs": [],
   "source": [
    "names_path = '/Volumes/TriveStorage/code/trive-image-recognition/bobae_names.txt'\n",
    "if os.path.exists(names_path):\n",
    "    os.remove(names_path)\n",
    "with open(names_path, 'w') as filehandle:\n",
    "    for f in [os.path.join(dst, x) for x in os.listdir(dst) if x != '.DS_Store']:\n",
    "        sz = os.path.getsize(f)\n",
    "        if sz == 0:\n",
    "            os.remove(f)\n",
    "        else:\n",
    "            filehandle.write(f'{os.path.basename(f)}\\n'.replace('.txt', ''))\n",
    "        \n"
   ]
  },
  {
   "cell_type": "code",
   "execution_count": null,
   "metadata": {},
   "outputs": [],
   "source": []
  }
 ],
 "metadata": {
  "kernelspec": {
   "display_name": "Python 3",
   "language": "python",
   "name": "python3"
  },
  "language_info": {
   "codemirror_mode": {
    "name": "ipython",
    "version": 3
   },
   "file_extension": ".py",
   "mimetype": "text/x-python",
   "name": "python",
   "nbconvert_exporter": "python",
   "pygments_lexer": "ipython3",
   "version": "3.6.7"
  }
 },
 "nbformat": 4,
 "nbformat_minor": 2
}
