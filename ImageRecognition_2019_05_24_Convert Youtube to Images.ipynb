{
 "cells": [
  {
   "cell_type": "code",
   "execution_count": 1,
   "metadata": {},
   "outputs": [],
   "source": [
    "from pytube import YouTube\n",
    "import os\n",
    "import cv2\n",
    "import random\n",
    "import sys\n",
    "import csv\n"
   ]
  },
  {
   "cell_type": "code",
   "execution_count": 2,
   "metadata": {},
   "outputs": [],
   "source": [
    "root = '/Volumes/TriveStorage/code/trive-image-recognition/complete_manual/youtube_temporary'\n",
    "links = []\n",
    "with open('youtube.csv') as csv_file:\n",
    "    csv_reader = csv.reader(csv_file, delimiter=',')\n",
    "    for row in csv_reader:\n",
    "        if 'youtube' in row[0]:\n",
    "            links.append(row[0])\n",
    "random.shuffle(links)  \n"
   ]
  },
  {
   "cell_type": "code",
   "execution_count": 3,
   "metadata": {},
   "outputs": [
    {
     "name": "stdout",
     "output_type": "stream",
     "text": [
      "'s'\n",
      "mp4\n",
      "/Users/jo/Desktop/trive-image-recognition-logic/BMW 530i xdrive 시승기 test drive.mp4\n",
      "dst\n",
      "/Volumes/TriveStorage/code/trive-image-recognition/complete_manual/youtube_temporary/BMW 530i xdrive 시승기 test drive\n",
      "mp4\n",
      "/Users/jo/Desktop/trive-image-recognition-logic/벤츠 e63 amg 4matic 시승기 mercedes e63 amg 4matic test drive.mp4\n",
      "dst\n",
      "/Volumes/TriveStorage/code/trive-image-recognition/complete_manual/youtube_temporary/벤츠 e63 amg 4matic 시승기 mercedes e63 amg 4matic test drive\n",
      "mp4\n",
      "/Users/jo/Desktop/trive-image-recognition-logic/미니 컨트리맨 시승기 mini countryman test drive.mp4\n",
      "dst\n",
      "/Volumes/TriveStorage/code/trive-image-recognition/complete_manual/youtube_temporary/미니 컨트리맨 시승기 mini countryman test drive\n",
      "mp4\n",
      "/Users/jo/Desktop/trive-image-recognition-logic/2020 쏘렌토 마스터 스페셜 디젤 4륜 시승기 kia sorento 2020 review test drive.mp4\n",
      "dst\n",
      "/Volumes/TriveStorage/code/trive-image-recognition/complete_manual/youtube_temporary/2020 쏘렌토 마스터 스페셜 디젤 4륜 시승기 kia sorento 2020 review test drive\n"
     ]
    },
    {
     "ename": "KeyboardInterrupt",
     "evalue": "",
     "output_type": "error",
     "traceback": [
      "\u001b[0;31m---------------------------------------------------------------------------\u001b[0m",
      "\u001b[0;31mKeyboardInterrupt\u001b[0m                         Traceback (most recent call last)",
      "\u001b[0;32m<ipython-input-3-99e1529626c3>\u001b[0m in \u001b[0;36m<module>\u001b[0;34m()\u001b[0m\n\u001b[1;32m     16\u001b[0m         \u001b[0;32mwhile\u001b[0m \u001b[0msuccess\u001b[0m\u001b[0;34m:\u001b[0m\u001b[0;34m\u001b[0m\u001b[0;34m\u001b[0m\u001b[0m\n\u001b[1;32m     17\u001b[0m             \u001b[0;32mif\u001b[0m \u001b[0mcount\u001b[0m \u001b[0;34m%\u001b[0m \u001b[0;36m4\u001b[0m \u001b[0;34m==\u001b[0m \u001b[0;36m0\u001b[0m\u001b[0;34m:\u001b[0m\u001b[0;34m\u001b[0m\u001b[0;34m\u001b[0m\u001b[0m\n\u001b[0;32m---> 18\u001b[0;31m                 \u001b[0mcv2\u001b[0m\u001b[0;34m.\u001b[0m\u001b[0mimwrite\u001b[0m\u001b[0;34m(\u001b[0m\u001b[0mos\u001b[0m\u001b[0;34m.\u001b[0m\u001b[0mpath\u001b[0m\u001b[0;34m.\u001b[0m\u001b[0mjoin\u001b[0m\u001b[0;34m(\u001b[0m\u001b[0mdst\u001b[0m\u001b[0;34m,\u001b[0m \u001b[0;34mf'{count}.jpg'\u001b[0m\u001b[0;34m)\u001b[0m\u001b[0;34m,\u001b[0m \u001b[0mimage\u001b[0m\u001b[0;34m)\u001b[0m\u001b[0;34m\u001b[0m\u001b[0;34m\u001b[0m\u001b[0m\n\u001b[0m\u001b[1;32m     19\u001b[0m                 \u001b[0msuccess\u001b[0m\u001b[0;34m,\u001b[0m\u001b[0mimage\u001b[0m \u001b[0;34m=\u001b[0m \u001b[0mvidcap\u001b[0m\u001b[0;34m.\u001b[0m\u001b[0mread\u001b[0m\u001b[0;34m(\u001b[0m\u001b[0;34m)\u001b[0m\u001b[0;34m\u001b[0m\u001b[0;34m\u001b[0m\u001b[0m\n\u001b[1;32m     20\u001b[0m             \u001b[0mcount\u001b[0m \u001b[0;34m+=\u001b[0m \u001b[0;36m1\u001b[0m\u001b[0;34m\u001b[0m\u001b[0;34m\u001b[0m\u001b[0m\n",
      "\u001b[0;31mKeyboardInterrupt\u001b[0m: "
     ]
    }
   ],
   "source": [
    "for link in links:\n",
    "    try:\n",
    "        mp4 = YouTube(link).streams.first().download()\n",
    "        print('mp4')\n",
    "        print(mp4)\n",
    "        dst = os.path.join(root, os.path.basename(mp4).replace('.mp4', '').replace('/', ''))\n",
    "        if not os.path.exists(dst):\n",
    "            os.mkdir(dst)\n",
    "        print('dst')\n",
    "        print(dst)\n",
    "        vidcap = cv2.VideoCapture(mp4)\n",
    "        success,image = vidcap.read()\n",
    "        max_int = sys.maxsize\n",
    "        count = 0\n",
    "        # random.randint(1, max_int)\n",
    "        while success:\n",
    "            if count % 4 == 0:\n",
    "                cv2.imwrite(os.path.join(dst, f'{count}.jpg'), image)\n",
    "                success,image = vidcap.read()\n",
    "            count += 1\n",
    "        os.remove(mp4)\n",
    "    except Exception as e:\n",
    "        print(e)\n"
   ]
  },
  {
   "cell_type": "code",
   "execution_count": null,
   "metadata": {},
   "outputs": [],
   "source": []
  }
 ],
 "metadata": {
  "kernelspec": {
   "display_name": "Python 3",
   "language": "python",
   "name": "python3"
  },
  "language_info": {
   "codemirror_mode": {
    "name": "ipython",
    "version": 3
   },
   "file_extension": ".py",
   "mimetype": "text/x-python",
   "name": "python",
   "nbconvert_exporter": "python",
   "pygments_lexer": "ipython3",
   "version": "3.6.7"
  }
 },
 "nbformat": 4,
 "nbformat_minor": 2
}
