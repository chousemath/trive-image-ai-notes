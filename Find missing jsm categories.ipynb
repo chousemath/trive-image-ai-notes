{
 "cells": [
  {
   "cell_type": "code",
   "execution_count": 7,
   "metadata": {},
   "outputs": [],
   "source": [
    "# -*- coding:utf-8 -*-\n",
    "\n",
    "import os\n",
    "import json\n",
    "import csv\n",
    "import numpy as np\n",
    "import pandas as pd\n",
    "import csv\n",
    "from pprint import pprint\n",
    "import operator\n",
    "import io\n",
    "import json\n",
    "import unicodedata as ud\n",
    "import random\n",
    "import string\n",
    "\n",
    "def norm(input: str) -> str:\n",
    "    return ud.normalize('NFC', input)\n",
    "\n",
    "def random_string(stringLength=10):\n",
    "    letters = string.ascii_lowercase\n",
    "    return ''.join(random.choice(letters) for i in range(stringLength))\n",
    "            "
   ]
  },
  {
   "cell_type": "code",
   "execution_count": 2,
   "metadata": {},
   "outputs": [],
   "source": [
    "jsm_categories = []\n",
    "with open('matched_names.csv') as csv_file:\n",
    "    csv_reader = csv.reader(csv_file, delimiter=',')\n",
    "    for row in csv_reader:\n",
    "        row = [norm(x) for x in row]\n",
    "        if row[0] and row[2]:\n",
    "            jsm_categories.append(row[2].replace('_', '').replace(' ', '').strip())\n",
    "            "
   ]
  },
  {
   "cell_type": "code",
   "execution_count": 9,
   "metadata": {},
   "outputs": [],
   "source": [
    "jsm_categories = list(set(jsm_categories))\n",
    "dst = '/Volumes/TriveStorage/code/trive-image-recognition/complete_manual/jsm_categories_finished'\n",
    "for cat in jsm_categories:\n",
    "    p = os.path.join(dst, cat)\n",
    "    if not os.path.exists(p):\n",
    "        os.mkdir(p)\n",
    "\n"
   ]
  },
  {
   "cell_type": "code",
   "execution_count": 4,
   "metadata": {},
   "outputs": [],
   "source": [
    "root = '/Volumes/TriveStorage/code/trive-image-recognition/complete_manual/jsm_categories'\n",
    "\n",
    "cats = [norm(x) for x in os.listdir(root) if x != '.DS_Store']\n",
    "missing = []\n",
    "for cat in jsm_categories:\n",
    "    if cat not in cats:\n",
    "        missing.append(cat)\n",
    "\n"
   ]
  },
  {
   "cell_type": "code",
   "execution_count": 8,
   "metadata": {},
   "outputs": [],
   "source": [
    "json_data = {}\n",
    "for cat in missing:\n",
    "    key = random_string(20)\n",
    "    json_data[key] = {\n",
    "        'key': key,\n",
    "        'name': cat\n",
    "    }\n",
    "\n",
    "with io.open('missing-names.json', 'w', encoding='utf-8') as f:\n",
    "    f.write(json.dumps(json_data, ensure_ascii=False))\n"
   ]
  },
  {
   "cell_type": "code",
   "execution_count": null,
   "metadata": {},
   "outputs": [],
   "source": []
  }
 ],
 "metadata": {
  "kernelspec": {
   "display_name": "Python 3",
   "language": "python",
   "name": "python3"
  },
  "language_info": {
   "codemirror_mode": {
    "name": "ipython",
    "version": 3
   },
   "file_extension": ".py",
   "mimetype": "text/x-python",
   "name": "python",
   "nbconvert_exporter": "python",
   "pygments_lexer": "ipython3",
   "version": "3.6.7"
  }
 },
 "nbformat": 4,
 "nbformat_minor": 2
}
