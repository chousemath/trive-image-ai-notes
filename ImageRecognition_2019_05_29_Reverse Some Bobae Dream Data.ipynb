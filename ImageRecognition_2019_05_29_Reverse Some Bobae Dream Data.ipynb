{
 "cells": [
  {
   "cell_type": "code",
   "execution_count": 2,
   "metadata": {},
   "outputs": [],
   "source": [
    "import os\n",
    "import csv\n",
    "import shutil\n"
   ]
  },
  {
   "cell_type": "code",
   "execution_count": 5,
   "metadata": {},
   "outputs": [],
   "source": [
    "bobae_to_encar = {}\n",
    "with open('vehicle_names_bobae.csv') as csvfile:\n",
    "    reader = csv.reader(csvfile, delimiter=',')\n",
    "    for row in reader:\n",
    "        if row[1]:\n",
    "            bobae_to_encar[row[0]] = row[1]\n",
    "\n",
    "# print(bobae_to_encar)\n",
    "root = '/Volumes/TriveStorage/code/trive-image-recognition/complete_manual/bobae_text_files_to_reverse'\n",
    "root2 = '/Volumes/TriveStorage/code/trive-image-recognition/complete_manual/bobae_text_files'\n",
    "dst = '/Volumes/TriveStorage/code/trive-image-recognition/complete_manual/bobae'\n",
    "if not os.path.exists(dst):\n",
    "    os.mkdir(dst)\n",
    "for x in [x for x in os.listdir(root) if 'xxGOOD' in x]:\n",
    "#     to_remove = os.path.join(root2, x)\n",
    "#     if os.path.exists(to_remove):\n",
    "#         os.remove(to_remove)\n",
    "#         continue\n",
    "    for line in [line.split('.io/')[1].rstrip('\\n') for line in open(os.path.join(root, x))]:\n",
    "        folder_name = x.split('.txt')[0]\n",
    "        stripped_folder_name = folder_name.strip()\n",
    "        if stripped_folder_name not in bobae_to_encar:\n",
    "            continue\n",
    "        encar_name = bobae_to_encar[stripped_folder_name]\n",
    "        base_name = os.path.basename(line)\n",
    "        dest_path = os.path.join(dst, encar_name)\n",
    "        if not os.path.exists(dest_path):\n",
    "            os.mkdir(dest_path)\n",
    "        target_path = os.path.join(dest_path, base_name)\n",
    "        if os.path.exists(target_path):\n",
    "            os.remove(target_path)\n",
    "            print('removed: ', target_path)\n"
   ]
  },
  {
   "cell_type": "code",
   "execution_count": null,
   "metadata": {},
   "outputs": [],
   "source": []
  }
 ],
 "metadata": {
  "kernelspec": {
   "display_name": "Python 3",
   "language": "python",
   "name": "python3"
  },
  "language_info": {
   "codemirror_mode": {
    "name": "ipython",
    "version": 3
   },
   "file_extension": ".py",
   "mimetype": "text/x-python",
   "name": "python",
   "nbconvert_exporter": "python",
   "pygments_lexer": "ipython3",
   "version": "3.6.7"
  }
 },
 "nbformat": 4,
 "nbformat_minor": 2
}
