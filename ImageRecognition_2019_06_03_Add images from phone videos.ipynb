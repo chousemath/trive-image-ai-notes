{
 "cells": [
  {
   "cell_type": "code",
   "execution_count": 1,
   "metadata": {},
   "outputs": [],
   "source": [
    "import json\n",
    "import os\n",
    "from imageai.Prediction.Custom import CustomImagePrediction\n",
    "import random\n",
    "import shutil\n",
    "from pprint import pprint\n"
   ]
  },
  {
   "cell_type": "code",
   "execution_count": 2,
   "metadata": {},
   "outputs": [],
   "source": [
    "with open('pairing.json') as json_file:  \n",
    "    data = json.load(json_file)\n",
    "\n",
    "bad_keys = []\n",
    "def clean(name: str) -> str:\n",
    "    return name.replace(' ', '').replace('_', '').replace('/', '')\n",
    "for key in data:\n",
    "    if '?' in data[key]:\n",
    "        bad_keys.append(key)\n",
    "    data[key] = clean(data[key])\n",
    "\n",
    "for key in bad_keys:\n",
    "    del data[key]\n",
    "\n",
    "\n",
    "    \n",
    "    "
   ]
  },
  {
   "cell_type": "code",
   "execution_count": 3,
   "metadata": {},
   "outputs": [],
   "source": [
    "data['audi_s3'] = '아우디S3S3(96년~현재)'\n",
    "data['bmw_5series'] = 'BMW5시리즈5시리즈(F10)(10~16년)'\n",
    "# data['lexus_rs'] = ''\n",
    "data['volvo_s60'] = '볼보S60S60(00년~현재)'\n",
    "data['KakaoTalk_Video_2019-06-04-02-18-11'] = '벤츠E-클래스W212(09~17년)'\n",
    "data['KakaoTalk_Video_2019-06-04-02-17-55'] = 'BMW3시리즈3시리즈(F30)(12~18년)'\n",
    "data['KakaoTalk_Video_2019-06-04-11-40-03'] = '벤츠C-클래스W204(07~14년)'\n",
    "data['KakaoTalk_Video_2019-06-04-11-43-12'] = '르노삼성클리오(18년~현재)'\n",
    "data['KakaoTalk_Video_2019-06-04-11-43-42'] = '벤츠CLS-클래스C257(18년~현재)'\n",
    "data['KakaoTalk_Video_2019-06-04-11-44-35'] = '기아카니발뉴카니발(06~10년)'\n",
    "data['KakaoTalk_Video_2019-06-04-11-45-10'] = '기아카니발뉴카니발(06~10년)'\n",
    "data['KakaoTalk_Video_2019-06-04-11-45-30'] = '현대그랜저그랜저HG(11~16년)'\n",
    "data['KakaoTalk_Video_2019-06-04-11-46-01'] = '현대그랜저그랜저HG(11~16년)'\n"
   ]
  },
  {
   "cell_type": "code",
   "execution_count": 4,
   "metadata": {},
   "outputs": [],
   "source": [
    "root = '/Volumes/TriveStorage/code/trive-image-recognition/complete_manual/phone_videos'\n",
    "mapped_data = {}\n",
    "total = 0\n",
    "for file_name in [x for x in os.listdir(root) if x != '.DS_Store']:\n",
    "    if file_name not in data:\n",
    "        continue\n",
    "    mapped_data[data[file_name]] = [os.path.join(root, file_name, x) for x in os.listdir(os.path.join(root, file_name)) if x != '.DS_Store']\n",
    "\n"
   ]
  },
  {
   "cell_type": "code",
   "execution_count": 5,
   "metadata": {},
   "outputs": [
    {
     "name": "stdout",
     "output_type": "stream",
     "text": [
      "WARNING:tensorflow:From /Users/jo/anaconda3/envs/data/lib/python3.6/site-packages/tensorflow/python/ops/resource_variable_ops.py:435: colocate_with (from tensorflow.python.framework.ops) is deprecated and will be removed in a future version.\n",
      "Instructions for updating:\n",
      "Colocations handled automatically by placer.\n"
     ]
    }
   ],
   "source": [
    "exec_path = '/Volumes/TriveStorage/code/trive-image-recognition'\n",
    "\n",
    "p = CustomImagePrediction()\n",
    "p.setModelTypeAsResNet()\n",
    "path_to_resnet = 'vehicle_direction.h5'\n",
    "path_to_models = 'vehicle_direction.json'\n",
    "p.setModelPath(path_to_resnet)\n",
    "p.setJsonPath(path_to_models)\n",
    "p.loadModel(num_objects=5)\n",
    "\n"
   ]
  },
  {
   "cell_type": "code",
   "execution_count": 6,
   "metadata": {},
   "outputs": [],
   "source": [
    "combined_path_direction =  os.path.join(exec_path, 'complete_manual', 'directional_cleaned')\n",
    "directions = ['back', 'front', 'mix', 'side', 'trash']\n"
   ]
  },
  {
   "cell_type": "code",
   "execution_count": 7,
   "metadata": {},
   "outputs": [],
   "source": [
    "for key in mapped_data:\n",
    "    dst_folder = os.path.join(combined_path_direction, key)\n",
    "    if not os.path.exists(dst_folder):\n",
    "        os.mkdir(dst_folder)\n",
    "    for direction in directions:\n",
    "        dir_path = os.path.join(dst_folder, direction)\n",
    "        if not os.path.exists(dir_path):\n",
    "            os.mkdir(dir_path)\n",
    "    for img in mapped_data[key]:\n",
    "        basename = os.path.basename(img)\n",
    "        if os.path.exists(os.path.join(dst_folder, 'back', basename)):\n",
    "            continue\n",
    "        if os.path.exists(os.path.join(dst_folder, 'front', basename)):\n",
    "            continue\n",
    "        if os.path.exists(os.path.join(dst_folder, 'mix', basename)):\n",
    "            continue\n",
    "        if os.path.exists(os.path.join(dst_folder, 'side', basename)):\n",
    "            continue\n",
    "        if os.path.exists(os.path.join(dst_folder, 'trash', basename)):\n",
    "            continue\n",
    "        try:\n",
    "            predictions, probabilities = p.predictImage(img, result_count=1)\n",
    "            predicted_direction = predictions[0]\n",
    "            direction_path = os.path.join(dst_folder, predicted_direction)\n",
    "            shutil.copy2(img, direction_path)\n",
    "        except Exception as e:\n",
    "            print(e)\n",
    "\n"
   ]
  },
  {
   "cell_type": "code",
   "execution_count": null,
   "metadata": {},
   "outputs": [],
   "source": []
  }
 ],
 "metadata": {
  "kernelspec": {
   "display_name": "Python 3",
   "language": "python",
   "name": "python3"
  },
  "language_info": {
   "codemirror_mode": {
    "name": "ipython",
    "version": 3
   },
   "file_extension": ".py",
   "mimetype": "text/x-python",
   "name": "python",
   "nbconvert_exporter": "python",
   "pygments_lexer": "ipython3",
   "version": "3.6.7"
  }
 },
 "nbformat": 4,
 "nbformat_minor": 2
}
