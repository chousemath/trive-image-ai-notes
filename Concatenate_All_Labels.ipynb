{
 "cells": [
  {
   "cell_type": "code",
   "execution_count": 3,
   "metadata": {},
   "outputs": [],
   "source": [
    "import os\n",
    "import csv\n",
    "from pprint import pprint\n"
   ]
  },
  {
   "cell_type": "code",
   "execution_count": 4,
   "metadata": {},
   "outputs": [],
   "source": [
    "labels = {}\n",
    "encar_names = []\n",
    "\n",
    "source_1 = 'vehicle_names - VehicleNames.csv'\n",
    "with open(source_1) as f:\n",
    "    reader = csv.reader(f)\n",
    "    next(reader)\n",
    "    for row in reader:\n",
    "        if len(row) < 3 or not row[2]:\n",
    "            continue\n",
    "        encar_names.append(row[2])\n",
    "        labels[row[0]] = row[2]\n",
    "\n",
    "source_2 = 'vehicle_names - Autohub.csv'\n",
    "with open(source_2) as f:\n",
    "    reader = csv.reader(f)\n",
    "    for row in reader:\n",
    "        if len(row) < 2 or not row[1]:\n",
    "            continue\n",
    "        encar_names.append(row[1])\n",
    "        labels[row[0]] = row[1]\n",
    "\n",
    "source_3 = 'vehicle_names - Bobae.csv'\n",
    "with open(source_3) as f:\n",
    "    reader = csv.reader(f)\n",
    "    next(reader)\n",
    "    for row in reader:\n",
    "        if len(row) < 2 or not row[1]:\n",
    "            continue\n",
    "        encar_names.append(row[1])\n",
    "        labels[row[0]] = row[1]\n",
    "        \n",
    "source_4 = 'vehicle_names - VehicleNames2.csv'\n",
    "with open(source_4) as f:\n",
    "    reader = csv.reader(f)\n",
    "    for row in reader:\n",
    "        if len(row) < 2 or not row[1]:\n",
    "            continue\n",
    "        encar_names.append(row[1])\n",
    "        labels[row[0]] = row[1]     \n",
    "\n",
    "source_5 = 'vehicle_names - VehicleNames3.csv'\n",
    "with open(source_5) as f:\n",
    "    reader = csv.reader(f)\n",
    "    for row in reader:\n",
    "        if len(row) < 2 or not row[1]:\n",
    "            continue\n",
    "        encar_names.append(row[1])\n",
    "        labels[row[0]] = row[1]   \n",
    "        \n",
    "        \n",
    "encar_names = list(set(encar_names))\n",
    "encar_names.sort()\n",
    "\n",
    "with open('vehicle_names_refined.csv', mode='w') as f:\n",
    "    writer = csv.writer(f, delimiter=',', quotechar='\"', quoting=csv.QUOTE_MINIMAL)\n",
    "    for n in labels:\n",
    "        writer.writerow([n, labels[n]])\n",
    "\n",
    "    \n",
    "\n",
    "# problematic labels\n",
    "# ['현대_아반떼_아반떼XD(00~03년)', 'BMW_3시리즈 _3시리즈(E90)(05~13년)']\n",
    "\n"
   ]
  },
  {
   "cell_type": "code",
   "execution_count": null,
   "metadata": {},
   "outputs": [],
   "source": [
    "\n"
   ]
  },
  {
   "cell_type": "code",
   "execution_count": null,
   "metadata": {},
   "outputs": [],
   "source": []
  }
 ],
 "metadata": {
  "kernelspec": {
   "display_name": "Python 3",
   "language": "python",
   "name": "python3"
  },
  "language_info": {
   "codemirror_mode": {
    "name": "ipython",
    "version": 3
   },
   "file_extension": ".py",
   "mimetype": "text/x-python",
   "name": "python",
   "nbconvert_exporter": "python",
   "pygments_lexer": "ipython3",
   "version": "3.6.7"
  }
 },
 "nbformat": 4,
 "nbformat_minor": 2
}
