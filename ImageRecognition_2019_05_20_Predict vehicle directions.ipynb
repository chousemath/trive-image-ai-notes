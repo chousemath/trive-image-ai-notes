{
 "cells": [
  {
   "cell_type": "markdown",
   "metadata": {},
   "source": [
    "# Predict and Separate Images by Direction\n",
    "\n",
    "* Question: Why was the experiment conducted?.\n",
    "> Answer: in progress...\n",
    "\n",
    "* Question: What specific problem/research question was being addressed?\n",
    "> Answer: in progress...\n",
    "\n",
    "* Question: What methods were used to solve the problem/answer the question?\n",
    "> Answer: in progress...\n",
    "\n",
    "* Question: What results were obtained?\n",
    "> Answer: in progress...\n",
    "\n",
    "* Question: What do these results mean?\n",
    "> Answer: in progress...\n",
    "\n",
    "* Question: How do they answer the overall question or improve our understanding of the problem?\n",
    "> Answer: in progress..."
   ]
  },
  {
   "cell_type": "code",
   "execution_count": 4,
   "metadata": {},
   "outputs": [],
   "source": [
    "# import all dependencies here\n",
    "from imageai.Prediction.Custom import CustomImagePrediction\n",
    "import os\n",
    "import random\n",
    "import shutil"
   ]
  },
  {
   "cell_type": "code",
   "execution_count": 5,
   "metadata": {},
   "outputs": [],
   "source": [
    "exec_path = '/Volumes/TriveStorage/code/trive-image-recognition'\n",
    "\n",
    "p = CustomImagePrediction()\n",
    "p.setModelTypeAsResNet()\n",
    "path_to_resnet = 'vehicle_direction.h5'\n",
    "path_to_models = 'vehicle_direction.json'\n",
    "p.setModelPath(path_to_resnet)\n",
    "p.setJsonPath(path_to_models)\n",
    "p.loadModel(num_objects=5)\n",
    "\n",
    "directions = ['back', 'front', 'mix', 'side', 'trash']\n",
    "company_paths = [\n",
    "#     'chacha_complete_manual',\n",
    "#     'chacourt_complete_manual',\n",
    "#     'encar_complete_manual',\n",
    "#     'jcpremium_complete_manual',\n",
    "#     'kauctioncar_complete_manual',\n",
    "#     'encar_benz',\n",
    "#     'usedcarmall_complete_manual',\n",
    "#     'youtube_videos_final',\n",
    "    'bobae',\n",
    "#     'phone_videos_final',\n",
    "]\n",
    "combined_path_direction =  os.path.join(exec_path, 'complete_manual', 'directional')\n",
    "paths = [os.path.join(exec_path, 'complete_manual', company_path) for company_path in company_paths]\n",
    "random.shuffle(paths)\n"
   ]
  },
  {
   "cell_type": "code",
   "execution_count": 6,
   "metadata": {},
   "outputs": [
    {
     "name": "stdout",
     "output_type": "stream",
     "text": [
      "You have set a path to an invalid image file.\n"
     ]
    }
   ],
   "source": [
    "for combined_path in paths:\n",
    "    good_folders = [x for x in os.listdir(os.path.join(exec_path, combined_path)) if '.DS_Store' not in x]\n",
    "    random.shuffle(good_folders)\n",
    "    for good_folder in good_folders:\n",
    "        output_path = os.path.join(exec_path, combined_path_direction, good_folder)\n",
    "\n",
    "        if not os.path.exists(output_path):\n",
    "            os.makedirs(output_path)\n",
    "\n",
    "        direction_dirs = list(map(lambda d: os.path.join(exec_path,\n",
    "                                                         combined_path_direction,\n",
    "                                                         good_folder, d), directions))\n",
    "        direction_dict = {\n",
    "            'back': direction_dirs[0],\n",
    "            'front': direction_dirs[1],\n",
    "            'mix': direction_dirs[2],\n",
    "            'side': direction_dirs[3],\n",
    "            'trash': direction_dirs[4],\n",
    "        }\n",
    "        \n",
    "        def direction_exists(direction: str, img: str) -> bool:\n",
    "            return os.path.exists(os.path.join(direction_dict[direction], img))\n",
    "        \n",
    "        for d in direction_dirs:\n",
    "            if not os.path.exists(d):\n",
    "                os.makedirs(d)\n",
    "\n",
    "        imgs = [x for x in os.listdir(os.path.join(exec_path, combined_path, good_folder)) if '.DS_Store' not in x]\n",
    "        random.shuffle(imgs)\n",
    "\n",
    "        for img in imgs:\n",
    "            if direction_exists('back', img):\n",
    "                continue\n",
    "            if direction_exists('front', img):\n",
    "                continue\n",
    "            if direction_exists('mix', img):\n",
    "                continue\n",
    "            if direction_exists('side', img):\n",
    "                continue\n",
    "            if direction_exists('trash', img):\n",
    "                continue\n",
    "\n",
    "            path_to_image = os.path.join(exec_path, combined_path, good_folder, img)\n",
    "\n",
    "            try:\n",
    "                predictions, probabilities = p.predictImage(path_to_image, result_count=1)\n",
    "                curr_direction = direction_dict[predictions[0]]\n",
    "                shutil.copy2(path_to_image, curr_direction)\n",
    "            except Exception as e:\n",
    "                print(e)\n"
   ]
  },
  {
   "cell_type": "code",
   "execution_count": null,
   "metadata": {},
   "outputs": [],
   "source": []
  }
 ],
 "metadata": {
  "kernelspec": {
   "display_name": "Python 3",
   "language": "python",
   "name": "python3"
  },
  "language_info": {
   "codemirror_mode": {
    "name": "ipython",
    "version": 3
   },
   "file_extension": ".py",
   "mimetype": "text/x-python",
   "name": "python",
   "nbconvert_exporter": "python",
   "pygments_lexer": "ipython3",
   "version": "3.6.7"
  }
 },
 "nbformat": 4,
 "nbformat_minor": 2
}
