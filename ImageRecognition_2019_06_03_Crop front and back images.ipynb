{
 "cells": [
  {
   "cell_type": "code",
   "execution_count": 14,
   "metadata": {},
   "outputs": [],
   "source": [
    "from PIL import Image\n",
    "import os\n",
    "import cv2\n",
    "\n"
   ]
  },
  {
   "cell_type": "code",
   "execution_count": 11,
   "metadata": {},
   "outputs": [],
   "source": [
    "src = '/Volumes/TriveStorage/code/trive-image-recognition/front_only'\n",
    "dst = '/Volumes/TriveStorage/code/trive-image-recognition/front_only_cropped'\n",
    "size = (250, 250)\n",
    "\n",
    "for src_folder in [os.path.join(src, x) for x in os.listdir(src) if x != '.DS_Store']:\n",
    "    dst_folder = os.path.join(dst, os.path.basename(src_folder))\n",
    "    if not os.path.exists(dst_folder):\n",
    "        os.mkdir(dst_folder)\n",
    "    for src_path in [os.path.join(src_folder, x) for x in os.listdir(src_folder) if x != '.DS_Store']:\n",
    "        basename = os.path.basename(src_path)\n",
    "        output_path = os.path.join(dst_folder, basename)\n",
    "        if os.path.exists(output_path):\n",
    "            continue\n",
    "        im = Image.open(src_path)\n",
    "        width, height = im.size\n",
    "        diff = (width - height) // 2\n",
    "        right = diff + height\n",
    "        cropped = im.crop((diff, 10, right, height - 10))\n",
    "        cropped.thumbnail(size, Image.ANTIALIAS)\n",
    "        cropped.save(output_path, \"PNG\")\n",
    "\n",
    "\n",
    "\n"
   ]
  },
  {
   "cell_type": "code",
   "execution_count": 12,
   "metadata": {},
   "outputs": [],
   "source": [
    "src = '/Volumes/TriveStorage/code/trive-image-recognition/back_only'\n",
    "dst = '/Volumes/TriveStorage/code/trive-image-recognition/back_only_cropped'\n",
    "size = (250, 250)\n",
    "\n",
    "for src_folder in [os.path.join(src, x) for x in os.listdir(src) if x != '.DS_Store']:\n",
    "    dst_folder = os.path.join(dst, os.path.basename(src_folder))\n",
    "    if not os.path.exists(dst_folder):\n",
    "        os.mkdir(dst_folder)\n",
    "    for src_path in [os.path.join(src_folder, x) for x in os.listdir(src_folder) if x != '.DS_Store']:\n",
    "        basename = os.path.basename(src_path)\n",
    "        output_path = os.path.join(dst_folder, basename)\n",
    "        if os.path.exists(output_path):\n",
    "            continue\n",
    "        im = Image.open(src_path)\n",
    "        width, height = im.size\n",
    "        diff = (width - height) // 2\n",
    "        right = diff + height\n",
    "        cropped = im.crop((diff, 10, right, height - 10))\n",
    "        cropped.thumbnail(size, Image.ANTIALIAS)\n",
    "        cropped.save(output_path, \"PNG\")\n",
    "        "
   ]
  },
  {
   "cell_type": "code",
   "execution_count": 17,
   "metadata": {},
   "outputs": [
    {
     "ename": "ValueError",
     "evalue": "operands could not be broadcast together with shapes (238,250,3) (239,250,3) ",
     "output_type": "error",
     "traceback": [
      "\u001b[0;31m-----------------------------------------------------------\u001b[0m",
      "\u001b[0;31mValueError\u001b[0m                Traceback (most recent call last)",
      "\u001b[0;32m<ipython-input-17-acaa1006fe70>\u001b[0m in \u001b[0;36m<module>\u001b[0;34m()\u001b[0m\n\u001b[1;32m     16\u001b[0m         \u001b[0;32mfor\u001b[0m \u001b[0mback_image\u001b[0m \u001b[0;32min\u001b[0m \u001b[0mback_images\u001b[0m\u001b[0;34m:\u001b[0m\u001b[0;34m\u001b[0m\u001b[0;34m\u001b[0m\u001b[0m\n\u001b[1;32m     17\u001b[0m             \u001b[0mimg_2\u001b[0m \u001b[0;34m=\u001b[0m \u001b[0mcv2\u001b[0m\u001b[0;34m.\u001b[0m\u001b[0mimread\u001b[0m\u001b[0;34m(\u001b[0m\u001b[0mback_image\u001b[0m\u001b[0;34m)\u001b[0m\u001b[0;34m\u001b[0m\u001b[0;34m\u001b[0m\u001b[0m\n\u001b[0;32m---> 18\u001b[0;31m             \u001b[0mimg\u001b[0m \u001b[0;34m=\u001b[0m \u001b[0mimg_1\u001b[0m \u001b[0;34m+\u001b[0m \u001b[0mimg_2\u001b[0m\u001b[0;34m/\u001b[0m\u001b[0;36m2\u001b[0m\u001b[0;34m\u001b[0m\u001b[0;34m\u001b[0m\u001b[0m\n\u001b[0m\u001b[1;32m     19\u001b[0m             \u001b[0mimage_name_2\u001b[0m \u001b[0;34m=\u001b[0m \u001b[0mos\u001b[0m\u001b[0;34m.\u001b[0m\u001b[0mpath\u001b[0m\u001b[0;34m.\u001b[0m\u001b[0mbasename\u001b[0m\u001b[0;34m(\u001b[0m\u001b[0mback_image\u001b[0m\u001b[0;34m)\u001b[0m\u001b[0;34m.\u001b[0m\u001b[0mreplace\u001b[0m\u001b[0;34m(\u001b[0m\u001b[0;34m'.jpg'\u001b[0m\u001b[0;34m,\u001b[0m \u001b[0;34m''\u001b[0m\u001b[0;34m)\u001b[0m\u001b[0;34m\u001b[0m\u001b[0;34m\u001b[0m\u001b[0m\n\u001b[1;32m     20\u001b[0m             \u001b[0mcv2\u001b[0m\u001b[0;34m.\u001b[0m\u001b[0mimwrite\u001b[0m\u001b[0;34m(\u001b[0m\u001b[0mos\u001b[0m\u001b[0;34m.\u001b[0m\u001b[0mpath\u001b[0m\u001b[0;34m.\u001b[0m\u001b[0mjoin\u001b[0m\u001b[0;34m(\u001b[0m\u001b[0mvehicle_output_path\u001b[0m\u001b[0;34m,\u001b[0m \u001b[0;34mf'{image_name_1}-{image_name_2}.jpg'\u001b[0m\u001b[0;34m)\u001b[0m\u001b[0;34m,\u001b[0m \u001b[0mimg\u001b[0m\u001b[0;34m)\u001b[0m\u001b[0;34m\u001b[0m\u001b[0;34m\u001b[0m\u001b[0m\n",
      "\u001b[0;31mValueError\u001b[0m: operands could not be broadcast together with shapes (238,250,3) (239,250,3) "
     ]
    }
   ],
   "source": [
    "front_path = '/Volumes/TriveStorage/code/trive-image-recognition/front_only_cropped'\n",
    "back_path = '/Volumes/TriveStorage/code/trive-image-recognition/back_only_cropped'\n",
    "output_path = '/Volumes/TriveStorage/code/trive-image-recognition/combined_front_back'\n",
    "\n",
    "for front_folder in [x for x in os.listdir(front_path) if x != '.DS_Store']:\n",
    "    front_vehicle_path = os.path.join(front_path, front_folder)\n",
    "    back_vehicle_path = os.path.join(back_path, front_folder)\n",
    "    front_images = [os.path.join(front_vehicle_path, x) for x in os.listdir(front_vehicle_path) if x != '.DS_Store']\n",
    "    back_images = [os.path.join(back_vehicle_path, x) for x in os.listdir(back_vehicle_path) if x != '.DS_Store']\n",
    "    vehicle_output_path = os.path.join(output_path, front_folder)\n",
    "    if not os.path.exists(vehicle_output_path):\n",
    "        os.mkdir(vehicle_output_path)\n",
    "    for front_image in front_images:\n",
    "        img_1 = cv2.imread(front_image) / 2\n",
    "        image_name_1 = os.path.basename(front_image).replace('.jpg', '')\n",
    "        for back_image in back_images:\n",
    "            img_2 = cv2.imread(back_image)\n",
    "            img = img_1 + img_2/2\n",
    "            image_name_2 = os.path.basename(back_image).replace('.jpg', '')\n",
    "            cv2.imwrite(os.path.join(vehicle_output_path, f'{image_name_1}-{image_name_2}.jpg'), img)\n",
    "\n",
    "    \n",
    "\n"
   ]
  },
  {
   "cell_type": "code",
   "execution_count": null,
   "metadata": {},
   "outputs": [],
   "source": []
  }
 ],
 "metadata": {
  "kernelspec": {
   "display_name": "Python 3",
   "language": "python",
   "name": "python3"
  },
  "language_info": {
   "codemirror_mode": {
    "name": "ipython",
    "version": 3
   },
   "file_extension": ".py",
   "mimetype": "text/x-python",
   "name": "python",
   "nbconvert_exporter": "python",
   "pygments_lexer": "ipython3",
   "version": "3.6.7"
  }
 },
 "nbformat": 4,
 "nbformat_minor": 2
}
