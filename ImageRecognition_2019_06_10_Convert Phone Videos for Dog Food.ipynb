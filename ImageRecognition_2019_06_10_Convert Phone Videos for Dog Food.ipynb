{
 "cells": [
  {
   "cell_type": "code",
   "execution_count": 1,
   "metadata": {},
   "outputs": [],
   "source": [
    "import os\n",
    "import cv2\n",
    "import random\n",
    "import sys\n",
    "import csv\n"
   ]
  },
  {
   "cell_type": "code",
   "execution_count": 2,
   "metadata": {},
   "outputs": [],
   "source": [
    "base_path = '/Volumes/TriveStorage/code/dog_foods/videos'\n",
    "mp4s = [os.path.join(base_path, x) for x in os.listdir(base_path) if x != '.DS_Store']"
   ]
  },
  {
   "cell_type": "code",
   "execution_count": 3,
   "metadata": {},
   "outputs": [
    {
     "name": "stdout",
     "output_type": "stream",
     "text": [
      "mp4\n",
      "/Volumes/TriveStorage/code/dog_foods/videos/20190610_130918.mp4\n",
      "dst\n",
      "/Volumes/TriveStorage/code/dog_foods/images/20190610_130918\n",
      "mp4\n",
      "/Volumes/TriveStorage/code/dog_foods/videos/20190610_130958.mp4\n",
      "dst\n",
      "/Volumes/TriveStorage/code/dog_foods/images/20190610_130958\n",
      "mp4\n",
      "/Volumes/TriveStorage/code/dog_foods/videos/20190610_131051.mp4\n",
      "dst\n",
      "/Volumes/TriveStorage/code/dog_foods/images/20190610_131051\n",
      "mp4\n",
      "/Volumes/TriveStorage/code/dog_foods/videos/20190611_184439.mp4\n",
      "dst\n",
      "/Volumes/TriveStorage/code/dog_foods/images/20190611_184439\n",
      "mp4\n",
      "/Volumes/TriveStorage/code/dog_foods/videos/20190611_184504.mp4\n",
      "dst\n",
      "/Volumes/TriveStorage/code/dog_foods/images/20190611_184504\n",
      "mp4\n",
      "/Volumes/TriveStorage/code/dog_foods/videos/20190611_184537.mp4\n",
      "dst\n",
      "/Volumes/TriveStorage/code/dog_foods/images/20190611_184537\n",
      "mp4\n",
      "/Volumes/TriveStorage/code/dog_foods/videos/20190611_184603.mp4\n",
      "dst\n",
      "/Volumes/TriveStorage/code/dog_foods/images/20190611_184603\n",
      "mp4\n",
      "/Volumes/TriveStorage/code/dog_foods/videos/20190611_184633.mp4\n",
      "dst\n",
      "/Volumes/TriveStorage/code/dog_foods/images/20190611_184633\n",
      "mp4\n",
      "/Volumes/TriveStorage/code/dog_foods/videos/20190611_184712.mp4\n",
      "dst\n",
      "/Volumes/TriveStorage/code/dog_foods/images/20190611_184712\n"
     ]
    }
   ],
   "source": [
    "root = '/Volumes/TriveStorage/code/dog_foods/images'\n",
    "for mp4 in mp4s:\n",
    "    try:\n",
    "        print('mp4')\n",
    "        print(mp4)\n",
    "        dst = os.path.join(root, os.path.basename(mp4).replace('.mp4', '').replace('.MOV', '').replace('/', ''))\n",
    "        if not os.path.exists(dst):\n",
    "            os.mkdir(dst)\n",
    "        print('dst')\n",
    "        print(dst)\n",
    "        vidcap = cv2.VideoCapture(mp4)\n",
    "        success,image = vidcap.read()\n",
    "        max_int = sys.maxsize\n",
    "        count = 0\n",
    "        # random.randint(1, max_int)\n",
    "        while success:\n",
    "            if count % 3 == 0:\n",
    "                cv2.imwrite(os.path.join(dst, f'{random.randint(1, max_int)}.jpg'), image)\n",
    "                success,image = vidcap.read()\n",
    "            count += 1\n",
    "        os.remove(mp4)\n",
    "    except Exception as e:\n",
    "        print(e)\n"
   ]
  },
  {
   "cell_type": "code",
   "execution_count": null,
   "metadata": {},
   "outputs": [],
   "source": []
  }
 ],
 "metadata": {
  "kernelspec": {
   "display_name": "Python 3",
   "language": "python",
   "name": "python3"
  },
  "language_info": {
   "codemirror_mode": {
    "name": "ipython",
    "version": 3
   },
   "file_extension": ".py",
   "mimetype": "text/x-python",
   "name": "python",
   "nbconvert_exporter": "python",
   "pygments_lexer": "ipython3",
   "version": "3.6.7"
  }
 },
 "nbformat": 4,
 "nbformat_minor": 2
}
